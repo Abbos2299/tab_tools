{
  "nbformat": 4,
  "nbformat_minor": 0,
  "metadata": {
    "colab": {
      "provenance": []
    },
    "kernelspec": {
      "name": "python3",
      "display_name": "Python 3"
    },
    "language_info": {
      "name": "python"
    }
  },
  "cells": [
    {
      "cell_type": "code",
      "source": [
        "!pip install docquery\n",
        "!sudo apt-get update\n",
        "!sudo apt-get install poppler-utils tesseract-ocr chromium-browser chromium-chromedriver\n",
        "!pip install git+https://github.com/huggingface/transformers.git@21f6f58721dd9154357576be6de54eefef1f1818\n",
        "!pip install git+https://github.com/impira/docquery.git@a494fe5af452d20011da75637aa82d246a869fa0#egg=docquery[web,donut]\n",
        "!pip install torch torchvision torchaudio --index-url https://download.pytorch.org/whl/cpu"
      ],
      "metadata": {
        "id": "opTt_SnkayUQ"
      },
      "execution_count": null,
      "outputs": []
    },
    {
      "cell_type": "code",
      "execution_count": null,
      "metadata": {
        "id": "JcTwIBkcaveT"
      },
      "outputs": [],
      "source": [
        "from docquery import document, pipeline\n",
        "p = pipeline('document-question-answering')\n",
        "doc = document.load_document(\"https://templates.invoicehome.com/invoice-template-us-neat-750px.png\")\n",
        "for q in [\"What is the invoice number?\"]:\n",
        "    print(q, p(question=q, **doc.context))"
      ]
    }
  ]
}